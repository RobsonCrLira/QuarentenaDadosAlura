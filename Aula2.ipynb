{
  "nbformat": 4,
  "nbformat_minor": 0,
  "metadata": {
    "colab": {
      "name": "Aula2",
      "provenance": [],
      "authorship_tag": "ABX9TyPaTxzpnxZZ8RbSpBT6G1vx",
      "include_colab_link": true
    },
    "kernelspec": {
      "name": "python3",
      "display_name": "Python 3"
    }
  },
  "cells": [
    {
      "cell_type": "markdown",
      "metadata": {
        "id": "view-in-github",
        "colab_type": "text"
      },
      "source": [
        "<a href=\"https://colab.research.google.com/github/RobsonCrLira/QuarentenaDadosAlura/blob/master/Aula2.ipynb\" target=\"_parent\"><img src=\"https://colab.research.google.com/assets/colab-badge.svg\" alt=\"Open In Colab\"/></a>"
      ]
    },
    {
      "cell_type": "code",
      "metadata": {
        "id": "AceT_ImArBwd",
        "colab_type": "code",
        "colab": {}
      },
      "source": [
        "import pandas as pd\n",
        "import matplotlib.pyplot as plt\n",
        "import numpy as np\n",
        "import seaborn as sns"
      ],
      "execution_count": 0,
      "outputs": []
    },
    {
      "cell_type": "code",
      "metadata": {
        "id": "54Zqr3vYrNGi",
        "colab_type": "code",
        "colab": {}
      },
      "source": [
        "filmes = pd.read_csv('https://raw.githubusercontent.com/RobsonCrLira/QuartentenaDadosAlura/master/ml-latest-small/movies.csv')\n",
        "avaliacoes = pd.read_csv('https://raw.githubusercontent.com/RobsonCrLira/QuartentenaDadosAlura/master/ml-latest-small/ratings.csv')"
      ],
      "execution_count": 0,
      "outputs": []
    },
    {
      "cell_type": "code",
      "metadata": {
        "id": "v0cqUnpzrgXB",
        "colab_type": "code",
        "colab": {}
      },
      "source": [
        "filmes.columns  = [\"filmeId\", \"titulo\", \"generos\"]\n",
        "avaliacoes.columns = ['usuarioId', 'filmeId', 'nota', 'timestamp']"
      ],
      "execution_count": 0,
      "outputs": []
    },
    {
      "cell_type": "code",
      "metadata": {
        "id": "AnZtpUZTSCKq",
        "colab_type": "code",
        "colab": {}
      },
      "source": [
        "filmes = filmes.join(avaliacoes.groupby('filmeId')['nota'].mean(),on = 'filmeId').rename(columns={'nota': 'media'}, inplace=True)"
      ],
      "execution_count": 0,
      "outputs": []
    },
    {
      "cell_type": "code",
      "metadata": {
        "id": "-_ZVAJIfSHns",
        "colab_type": "code",
        "colab": {
          "base_uri": "https://localhost:8080/",
          "height": 172
        },
        "outputId": "9fdd89b7-172e-405f-f7b4-db9232bbad63"
      },
      "source": [
        "filmes['media'] = round(filmes['media'],2)"
      ],
      "execution_count": 152,
      "outputs": [
        {
          "output_type": "error",
          "ename": "AttributeError",
          "evalue": "ignored",
          "traceback": [
            "\u001b[0;31m---------------------------------------------------------------------------\u001b[0m",
            "\u001b[0;31mAttributeError\u001b[0m                            Traceback (most recent call last)",
            "\u001b[0;32m<ipython-input-152-756419c982e0>\u001b[0m in \u001b[0;36m<module>\u001b[0;34m()\u001b[0m\n\u001b[0;32m----> 1\u001b[0;31m \u001b[0mfilmes\u001b[0m\u001b[0;34m.\u001b[0m\u001b[0mhead\u001b[0m\u001b[0;34m(\u001b[0m\u001b[0;34m)\u001b[0m\u001b[0;34m\u001b[0m\u001b[0;34m\u001b[0m\u001b[0m\n\u001b[0m",
            "\u001b[0;31mAttributeError\u001b[0m: 'NoneType' object has no attribute 'head'"
          ]
        }
      ]
    },
    {
      "cell_type": "code",
      "metadata": {
        "id": "BX-gKFXhSZ82",
        "colab_type": "code",
        "colab": {}
      },
      "source": [
        "filmes = filmes.join(avaliacoes.groupby('filmeId')['nota'].count(),on = 'filmeId').rename(columns={'nota': 'votos_totais'},inplace=True)"
      ],
      "execution_count": 0,
      "outputs": []
    },
    {
      "cell_type": "code",
      "metadata": {
        "id": "njk9ezbcrqTI",
        "colab_type": "code",
        "colab": {}
      },
      "source": [
        "filmes['generos'].str.get_dummies('|').sum()"
      ],
      "execution_count": 0,
      "outputs": []
    },
    {
      "cell_type": "code",
      "metadata": {
        "id": "7LGEqHmar9bL",
        "colab_type": "code",
        "colab": {}
      },
      "source": [
        "#Ordenando na ordem decresente\n",
        "filmes['generos'].str.get_dummies('|').sum().sort_values(ascending=False)"
      ],
      "execution_count": 0,
      "outputs": []
    },
    {
      "cell_type": "code",
      "metadata": {
        "id": "m0OBnc5Askx8",
        "colab_type": "code",
        "colab": {}
      },
      "source": [
        "filmes['generos'].str.get_dummies('|').sum().sort_values(ascending=False).plot(\n",
        "    kind='pie',\n",
        "    title = 'Categoria de filmes ',\n",
        "    figsize=(8,8)\n",
        "    )"
      ],
      "execution_count": 0,
      "outputs": []
    },
    {
      "cell_type": "code",
      "metadata": {
        "id": "QVIMSTMKPsEK",
        "colab_type": "code",
        "colab": {}
      },
      "source": [
        "filmes['generos'].str.get_dummies('|').sum().sort_values(ascending=False).plot(\n",
        "    kind='bar',\n",
        "    title = 'Filmes por categoria ',\n",
        "    figsize=(8,8)\n",
        "    )"
      ],
      "execution_count": 0,
      "outputs": []
    },
    {
      "cell_type": "code",
      "metadata": {
        "id": "9XrD6sqRQC3N",
        "colab_type": "code",
        "colab": {}
      },
      "source": [
        "filmes_por_genero = filmes['generos'].str.get_dummies('|').sum().sort_values(ascending=False)\n",
        "plt.figure(figsize=(16,8))\n",
        "sns.set_style('whitegrid')\n",
        "sns.barplot(x=filmes_por_genero.index,\n",
        "            y=filmes_por_genero.values,\n",
        "            palette=sns.color_palette('BuGn_r',n_colors=len(filmes_por_genero)+ 10))\n",
        "plt.show()"
      ],
      "execution_count": 0,
      "outputs": []
    },
    {
      "cell_type": "code",
      "metadata": {
        "id": "j4v1oL3OquEd",
        "colab_type": "code",
        "colab": {}
      },
      "source": [
        "def plot_filme(n):\n",
        "  notas_do_filme = avaliacoes.query(f'filmeId=={n}')['nota']\n",
        "  notas_do_filme.plot(kind='hist')\n",
        "  plt.show()\n",
        "  notas_do_filme.plot.box()\n",
        "  plt.show()\n",
        "  return notas_do_filme.describe()"
      ],
      "execution_count": 0,
      "outputs": []
    },
    {
      "cell_type": "code",
      "metadata": {
        "id": "wSnrpDZ-7KsN",
        "colab_type": "code",
        "colab": {}
      },
      "source": [
        "sns.boxplot(data = avaliacoes.query(\"filmeId in [1,2,919,46578]\"),x=\"filmeId\",y=\"nota\")"
      ],
      "execution_count": 0,
      "outputs": []
    },
    {
      "cell_type": "code",
      "metadata": {
        "id": "xBBRW2nt7mew",
        "colab_type": "code",
        "colab": {}
      },
      "source": [
        "plot_filme(2)"
      ],
      "execution_count": 0,
      "outputs": []
    },
    {
      "cell_type": "code",
      "metadata": {
        "id": "Q-wOb_BwCFoo",
        "colab_type": "code",
        "colab": {}
      },
      "source": [
        ""
      ],
      "execution_count": 0,
      "outputs": []
    },
    {
      "cell_type": "markdown",
      "metadata": {
        "id": "swJL7qZwCepy",
        "colab_type": "text"
      },
      "source": [
        "#Desafio 1 \n",
        "Rotacionar os thicks(os nomes dor generos)(45º)\n"
      ]
    },
    {
      "cell_type": "code",
      "metadata": {
        "id": "rp7RQdm8Ckw5",
        "colab_type": "code",
        "colab": {}
      },
      "source": [
        "filmes_por_genero = filmes['generos'].str.get_dummies('|').sum().sort_values(ascending=False)\n",
        "plt.figure(figsize=(16,8))\n",
        "sns.set_style('whitegrid')\n",
        "df1 = sns.barplot(x=filmes_por_genero.index,\n",
        "            y=filmes_por_genero.values,\n",
        "            palette=sns.color_palette('BuGn_r',n_colors=len(filmes_por_genero)+ 10))\n",
        "df1.set_xticklabels(df1.get_xticklabels(),rotation=45)\n",
        "plt.show()"
      ],
      "execution_count": 0,
      "outputs": []
    },
    {
      "cell_type": "markdown",
      "metadata": {
        "id": "iMih6OxBEYFn",
        "colab_type": "text"
      },
      "source": [
        "#Desafio 2\n",
        "comparar outros filmes com as media parecida e achar distribuição diferente"
      ]
    },
    {
      "cell_type": "code",
      "metadata": {
        "id": "PYgK65cYEPT7",
        "colab_type": "code",
        "colab": {}
      },
      "source": [
        "filmes.sort_values(by='media',ascending=False)[6400:6425]"
      ],
      "execution_count": 0,
      "outputs": []
    },
    {
      "cell_type": "code",
      "metadata": {
        "id": "kMvn6j9lEW-9",
        "colab_type": "code",
        "colab": {}
      },
      "source": [
        "plot_filme(3571)#Time Code(2000)"
      ],
      "execution_count": 0,
      "outputs": []
    },
    {
      "cell_type": "code",
      "metadata": {
        "id": "UFP6sYLGUiaC",
        "colab_type": "code",
        "colab": {}
      },
      "source": [
        "plot_filme(5749)#Ghost Story (1981)"
      ],
      "execution_count": 0,
      "outputs": []
    },
    {
      "cell_type": "markdown",
      "metadata": {
        "id": "2wa4R0ZvVqCC",
        "colab_type": "text"
      },
      "source": [
        "#Time Code(2000) \n",
        "Teve apenas dois votos sendo 1 e 4 assim dando a media de 3(vale nota que esta media esta estranha pois a soma em 1+4 = 5 e 5/2 é 2,5)\n",
        "#Ghost Story (1981) - \n",
        "Teve apenas um unico voto sendo ele 3"
      ]
    },
    {
      "cell_type": "markdown",
      "metadata": {
        "id": "yYYutFh-Wlqt",
        "colab_type": "text"
      },
      "source": [
        "#Desafio 3\n",
        "Criar o boxplot dos 10 filmes com mais votos(não é com a maior média, é os mais votados)\n",
        "#Desafio 4\n",
        "O boxplot estar num tamanho adequado e com os nomes dos filmes no thicks"
      ]
    },
    {
      "cell_type": "code",
      "metadata": {
        "id": "8a7rJvh8WlhH",
        "colab_type": "code",
        "colab": {}
      },
      "source": [
        "top_10_mais_votados = filmes.sort_values(by='votos_totais',ascending=False).head(10)['filmeId'].tolist()"
      ],
      "execution_count": 0,
      "outputs": []
    },
    {
      "cell_type": "code",
      "metadata": {
        "id": "K22yv0sqXT-T",
        "colab_type": "code",
        "colab": {}
      },
      "source": [
        "plt.figure(figsize=(16,8))\n",
        "top_10_data = avaliacoes.query(f\"filmeId in {top_10_mais_votados}\").merge(filmes[['filmeId','titulo']],on='filmeId')\n",
        "df34 = sns.boxplot(data = top_10_data,x=\"titulo\",y=\"nota\")\n",
        "df34.set_xticklabels(df34.get_xticklabels(),rotation=90)\n",
        "plt.show()"
      ],
      "execution_count": 0,
      "outputs": []
    },
    {
      "cell_type": "code",
      "metadata": {
        "id": "E3nr-YybZpdB",
        "colab_type": "code",
        "colab": {}
      },
      "source": [
        "plt.figure(figsize=(30,8))\n",
        "top_10_data = avaliacoes.query(f\"filmeId in {top_10_mais_votados}\").merge(filmes[['filmeId','titulo']],on='filmeId')\n",
        "df34 = sns.boxplot(data = top_10_data,x=\"titulo\",y=\"nota\")\n",
        "df34.set_xticklabels(df34.get_xticklabels(),rotation=45)\n",
        "plt.show()"
      ],
      "execution_count": 0,
      "outputs": []
    },
    {
      "cell_type": "code",
      "metadata": {
        "id": "LJnLtoQifiT7",
        "colab_type": "code",
        "colab": {}
      },
      "source": [
        "filmes = filmes.join(avaliacoes.groupby('filmeId')['nota'].median(),on = 'filmeId').rename(columns={'nota': 'media'}, inplace=True)"
      ],
      "execution_count": 0,
      "outputs": []
    },
    {
      "cell_type": "code",
      "metadata": {
        "id": "2TIT3LkNikk2",
        "colab_type": "code",
        "colab": {}
      },
      "source": [
        "filmes.head()"
      ],
      "execution_count": 0,
      "outputs": []
    },
    {
      "cell_type": "code",
      "metadata": {
        "id": "Q0BVTr4fikd4",
        "colab_type": "code",
        "colab": {}
      },
      "source": [
        ""
      ],
      "execution_count": 0,
      "outputs": []
    }
  ]
}